{
  "nbformat": 4,
  "nbformat_minor": 0,
  "metadata": {
    "colab": {
      "provenance": []
    },
    "kernelspec": {
      "name": "python3",
      "display_name": "Python 3"
    },
    "language_info": {
      "name": "python"
    }
  },
  "cells": [
    {
      "cell_type": "markdown",
      "source": [
        "## Generation of novel molecules using WGAN-GP with R-GCN\n",
        "## Dataset 'qm9.csv' from  http://quantum-machine.org/datasets/"
      ],
      "metadata": {
        "id": "m2fetyUWyDKA"
      }
    },
    {
      "cell_type": "markdown",
      "source": [
        "### **1. Import packages and libraries**"
      ],
      "metadata": {
        "id": "mEFsY_Q3w8ye"
      }
    },
    {
      "cell_type": "code",
      "execution_count": null,
      "metadata": {
        "colab": {
          "base_uri": "https://localhost:8080/"
        },
        "id": "0glxjJWFuEQk",
        "outputId": "e18a373d-65a7-4cb8-99c5-4677534a2084"
      },
      "outputs": [
        {
          "output_type": "stream",
          "name": "stdout",
          "text": [
            "\u001b[2K     \u001b[90m━━━━━━━━━━━━━━━━━━━━━━━━━━━━━━━━━━━━━━━━\u001b[0m \u001b[32m29.4/29.4 MB\u001b[0m \u001b[31m9.8 MB/s\u001b[0m eta \u001b[36m0:00:00\u001b[0m\n",
            "\u001b[?25h"
          ]
        }
      ],
      "source": [
        "!pip -q install rdkit-pypi\n",
        "!pip -q install Pillow"
      ]
    },
    {
      "cell_type": "code",
      "source": [
        "import os\n",
        "import numpy as np\n",
        "import pandas as pd\n",
        "\n",
        "from rdkit import Chem, RDLogger\n",
        "from rdkit.Chem.Draw import IPythonConsole, MolsToGridImage\n",
        "\n",
        "import tensorflow as tf\n",
        "from tensorflow import keras\n",
        "\n",
        "RDLogger.DisableLog(\"rdApp.*\")"
      ],
      "metadata": {
        "id": "oXrr53hpxSuS"
      },
      "execution_count": null,
      "outputs": []
    },
    {
      "cell_type": "markdown",
      "source": [
        "### **2. Read data**"
      ],
      "metadata": {
        "id": "rQsp7Pprxzji"
      }
    },
    {
      "cell_type": "code",
      "source": [
        "from google.colab import drive\n",
        "drive.mount('/content/drive')\n",
        "\n",
        "os.chdir('/content/drive/My Drive/GAN Molecules')"
      ],
      "metadata": {
        "colab": {
          "base_uri": "https://localhost:8080/"
        },
        "id": "4bxnl-0Yx5va",
        "outputId": "e251b7dd-c747-4aeb-8fc0-bf448b7240f7"
      },
      "execution_count": null,
      "outputs": [
        {
          "output_type": "stream",
          "name": "stdout",
          "text": [
            "Mounted at /content/drive\n"
          ]
        }
      ]
    },
    {
      "cell_type": "code",
      "source": [
        "df = pd.read_csv('qm9.csv')\n",
        "print(df.shape)\n",
        "df.head()"
      ],
      "metadata": {
        "colab": {
          "base_uri": "https://localhost:8080/",
          "height": 254
        },
        "id": "5zSSmoBSyyHC",
        "outputId": "433707d4-4a36-45fc-ab63-bae913a2706e"
      },
      "execution_count": null,
      "outputs": [
        {
          "output_type": "stream",
          "name": "stdout",
          "text": [
            "(133885, 21)\n"
          ]
        },
        {
          "output_type": "execute_result",
          "data": {
            "text/plain": [
              "  mol_id smiles          A           B           C      mu  alpha    homo  \\\n",
              "0  gdb_1      C  157.71180  157.709970  157.706990  0.0000  13.21 -0.3877   \n",
              "1  gdb_2      N  293.60975  293.541110  191.393970  1.6256   9.46 -0.2570   \n",
              "2  gdb_3      O  799.58812  437.903860  282.945450  1.8511   6.31 -0.2928   \n",
              "3  gdb_4    C#C    0.00000   35.610036   35.610036  0.0000  16.28 -0.2845   \n",
              "4  gdb_5    C#N    0.00000   44.593883   44.593883  2.8937  12.99 -0.3604   \n",
              "\n",
              "     lumo     gap  ...      zpve         u0       u298       h298       g298  \\\n",
              "0  0.1171  0.5048  ...  0.044749 -40.478930 -40.476062 -40.475117 -40.498597   \n",
              "1  0.0829  0.3399  ...  0.034358 -56.525887 -56.523026 -56.522082 -56.544961   \n",
              "2  0.0687  0.3615  ...  0.021375 -76.404702 -76.401867 -76.400922 -76.422349   \n",
              "3  0.0506  0.3351  ...  0.026841 -77.308427 -77.305527 -77.304583 -77.327429   \n",
              "4  0.0191  0.3796  ...  0.016601 -93.411888 -93.409370 -93.408425 -93.431246   \n",
              "\n",
              "      cv     u0_atom   u298_atom   h298_atom   g298_atom  \n",
              "0  6.469 -395.999595 -398.643290 -401.014647 -372.471772  \n",
              "1  6.316 -276.861363 -278.620271 -280.399259 -259.338802  \n",
              "2  6.002 -213.087624 -213.974294 -215.159658 -201.407171  \n",
              "3  8.574 -385.501997 -387.237686 -389.016047 -365.800724  \n",
              "4  6.278 -301.820534 -302.906752 -304.091489 -288.720028  \n",
              "\n",
              "[5 rows x 21 columns]"
            ],
            "text/html": [
              "\n",
              "  <div id=\"df-c6c9eff1-1f50-4047-add0-efef098f3868\" class=\"colab-df-container\">\n",
              "    <div>\n",
              "<style scoped>\n",
              "    .dataframe tbody tr th:only-of-type {\n",
              "        vertical-align: middle;\n",
              "    }\n",
              "\n",
              "    .dataframe tbody tr th {\n",
              "        vertical-align: top;\n",
              "    }\n",
              "\n",
              "    .dataframe thead th {\n",
              "        text-align: right;\n",
              "    }\n",
              "</style>\n",
              "<table border=\"1\" class=\"dataframe\">\n",
              "  <thead>\n",
              "    <tr style=\"text-align: right;\">\n",
              "      <th></th>\n",
              "      <th>mol_id</th>\n",
              "      <th>smiles</th>\n",
              "      <th>A</th>\n",
              "      <th>B</th>\n",
              "      <th>C</th>\n",
              "      <th>mu</th>\n",
              "      <th>alpha</th>\n",
              "      <th>homo</th>\n",
              "      <th>lumo</th>\n",
              "      <th>gap</th>\n",
              "      <th>...</th>\n",
              "      <th>zpve</th>\n",
              "      <th>u0</th>\n",
              "      <th>u298</th>\n",
              "      <th>h298</th>\n",
              "      <th>g298</th>\n",
              "      <th>cv</th>\n",
              "      <th>u0_atom</th>\n",
              "      <th>u298_atom</th>\n",
              "      <th>h298_atom</th>\n",
              "      <th>g298_atom</th>\n",
              "    </tr>\n",
              "  </thead>\n",
              "  <tbody>\n",
              "    <tr>\n",
              "      <th>0</th>\n",
              "      <td>gdb_1</td>\n",
              "      <td>C</td>\n",
              "      <td>157.71180</td>\n",
              "      <td>157.709970</td>\n",
              "      <td>157.706990</td>\n",
              "      <td>0.0000</td>\n",
              "      <td>13.21</td>\n",
              "      <td>-0.3877</td>\n",
              "      <td>0.1171</td>\n",
              "      <td>0.5048</td>\n",
              "      <td>...</td>\n",
              "      <td>0.044749</td>\n",
              "      <td>-40.478930</td>\n",
              "      <td>-40.476062</td>\n",
              "      <td>-40.475117</td>\n",
              "      <td>-40.498597</td>\n",
              "      <td>6.469</td>\n",
              "      <td>-395.999595</td>\n",
              "      <td>-398.643290</td>\n",
              "      <td>-401.014647</td>\n",
              "      <td>-372.471772</td>\n",
              "    </tr>\n",
              "    <tr>\n",
              "      <th>1</th>\n",
              "      <td>gdb_2</td>\n",
              "      <td>N</td>\n",
              "      <td>293.60975</td>\n",
              "      <td>293.541110</td>\n",
              "      <td>191.393970</td>\n",
              "      <td>1.6256</td>\n",
              "      <td>9.46</td>\n",
              "      <td>-0.2570</td>\n",
              "      <td>0.0829</td>\n",
              "      <td>0.3399</td>\n",
              "      <td>...</td>\n",
              "      <td>0.034358</td>\n",
              "      <td>-56.525887</td>\n",
              "      <td>-56.523026</td>\n",
              "      <td>-56.522082</td>\n",
              "      <td>-56.544961</td>\n",
              "      <td>6.316</td>\n",
              "      <td>-276.861363</td>\n",
              "      <td>-278.620271</td>\n",
              "      <td>-280.399259</td>\n",
              "      <td>-259.338802</td>\n",
              "    </tr>\n",
              "    <tr>\n",
              "      <th>2</th>\n",
              "      <td>gdb_3</td>\n",
              "      <td>O</td>\n",
              "      <td>799.58812</td>\n",
              "      <td>437.903860</td>\n",
              "      <td>282.945450</td>\n",
              "      <td>1.8511</td>\n",
              "      <td>6.31</td>\n",
              "      <td>-0.2928</td>\n",
              "      <td>0.0687</td>\n",
              "      <td>0.3615</td>\n",
              "      <td>...</td>\n",
              "      <td>0.021375</td>\n",
              "      <td>-76.404702</td>\n",
              "      <td>-76.401867</td>\n",
              "      <td>-76.400922</td>\n",
              "      <td>-76.422349</td>\n",
              "      <td>6.002</td>\n",
              "      <td>-213.087624</td>\n",
              "      <td>-213.974294</td>\n",
              "      <td>-215.159658</td>\n",
              "      <td>-201.407171</td>\n",
              "    </tr>\n",
              "    <tr>\n",
              "      <th>3</th>\n",
              "      <td>gdb_4</td>\n",
              "      <td>C#C</td>\n",
              "      <td>0.00000</td>\n",
              "      <td>35.610036</td>\n",
              "      <td>35.610036</td>\n",
              "      <td>0.0000</td>\n",
              "      <td>16.28</td>\n",
              "      <td>-0.2845</td>\n",
              "      <td>0.0506</td>\n",
              "      <td>0.3351</td>\n",
              "      <td>...</td>\n",
              "      <td>0.026841</td>\n",
              "      <td>-77.308427</td>\n",
              "      <td>-77.305527</td>\n",
              "      <td>-77.304583</td>\n",
              "      <td>-77.327429</td>\n",
              "      <td>8.574</td>\n",
              "      <td>-385.501997</td>\n",
              "      <td>-387.237686</td>\n",
              "      <td>-389.016047</td>\n",
              "      <td>-365.800724</td>\n",
              "    </tr>\n",
              "    <tr>\n",
              "      <th>4</th>\n",
              "      <td>gdb_5</td>\n",
              "      <td>C#N</td>\n",
              "      <td>0.00000</td>\n",
              "      <td>44.593883</td>\n",
              "      <td>44.593883</td>\n",
              "      <td>2.8937</td>\n",
              "      <td>12.99</td>\n",
              "      <td>-0.3604</td>\n",
              "      <td>0.0191</td>\n",
              "      <td>0.3796</td>\n",
              "      <td>...</td>\n",
              "      <td>0.016601</td>\n",
              "      <td>-93.411888</td>\n",
              "      <td>-93.409370</td>\n",
              "      <td>-93.408425</td>\n",
              "      <td>-93.431246</td>\n",
              "      <td>6.278</td>\n",
              "      <td>-301.820534</td>\n",
              "      <td>-302.906752</td>\n",
              "      <td>-304.091489</td>\n",
              "      <td>-288.720028</td>\n",
              "    </tr>\n",
              "  </tbody>\n",
              "</table>\n",
              "<p>5 rows × 21 columns</p>\n",
              "</div>\n",
              "    <div class=\"colab-df-buttons\">\n",
              "\n",
              "  <div class=\"colab-df-container\">\n",
              "    <button class=\"colab-df-convert\" onclick=\"convertToInteractive('df-c6c9eff1-1f50-4047-add0-efef098f3868')\"\n",
              "            title=\"Convert this dataframe to an interactive table.\"\n",
              "            style=\"display:none;\">\n",
              "\n",
              "  <svg xmlns=\"http://www.w3.org/2000/svg\" height=\"24px\" viewBox=\"0 -960 960 960\">\n",
              "    <path d=\"M120-120v-720h720v720H120Zm60-500h600v-160H180v160Zm220 220h160v-160H400v160Zm0 220h160v-160H400v160ZM180-400h160v-160H180v160Zm440 0h160v-160H620v160ZM180-180h160v-160H180v160Zm440 0h160v-160H620v160Z\"/>\n",
              "  </svg>\n",
              "    </button>\n",
              "\n",
              "  <style>\n",
              "    .colab-df-container {\n",
              "      display:flex;\n",
              "      gap: 12px;\n",
              "    }\n",
              "\n",
              "    .colab-df-convert {\n",
              "      background-color: #E8F0FE;\n",
              "      border: none;\n",
              "      border-radius: 50%;\n",
              "      cursor: pointer;\n",
              "      display: none;\n",
              "      fill: #1967D2;\n",
              "      height: 32px;\n",
              "      padding: 0 0 0 0;\n",
              "      width: 32px;\n",
              "    }\n",
              "\n",
              "    .colab-df-convert:hover {\n",
              "      background-color: #E2EBFA;\n",
              "      box-shadow: 0px 1px 2px rgba(60, 64, 67, 0.3), 0px 1px 3px 1px rgba(60, 64, 67, 0.15);\n",
              "      fill: #174EA6;\n",
              "    }\n",
              "\n",
              "    .colab-df-buttons div {\n",
              "      margin-bottom: 4px;\n",
              "    }\n",
              "\n",
              "    [theme=dark] .colab-df-convert {\n",
              "      background-color: #3B4455;\n",
              "      fill: #D2E3FC;\n",
              "    }\n",
              "\n",
              "    [theme=dark] .colab-df-convert:hover {\n",
              "      background-color: #434B5C;\n",
              "      box-shadow: 0px 1px 3px 1px rgba(0, 0, 0, 0.15);\n",
              "      filter: drop-shadow(0px 1px 2px rgba(0, 0, 0, 0.3));\n",
              "      fill: #FFFFFF;\n",
              "    }\n",
              "  </style>\n",
              "\n",
              "    <script>\n",
              "      const buttonEl =\n",
              "        document.querySelector('#df-c6c9eff1-1f50-4047-add0-efef098f3868 button.colab-df-convert');\n",
              "      buttonEl.style.display =\n",
              "        google.colab.kernel.accessAllowed ? 'block' : 'none';\n",
              "\n",
              "      async function convertToInteractive(key) {\n",
              "        const element = document.querySelector('#df-c6c9eff1-1f50-4047-add0-efef098f3868');\n",
              "        const dataTable =\n",
              "          await google.colab.kernel.invokeFunction('convertToInteractive',\n",
              "                                                    [key], {});\n",
              "        if (!dataTable) return;\n",
              "\n",
              "        const docLinkHtml = 'Like what you see? Visit the ' +\n",
              "          '<a target=\"_blank\" href=https://colab.research.google.com/notebooks/data_table.ipynb>data table notebook</a>'\n",
              "          + ' to learn more about interactive tables.';\n",
              "        element.innerHTML = '';\n",
              "        dataTable['output_type'] = 'display_data';\n",
              "        await google.colab.output.renderOutput(dataTable, element);\n",
              "        const docLink = document.createElement('div');\n",
              "        docLink.innerHTML = docLinkHtml;\n",
              "        element.appendChild(docLink);\n",
              "      }\n",
              "    </script>\n",
              "  </div>\n",
              "\n",
              "\n",
              "<div id=\"df-c21c2426-b9da-4213-8c79-be74b033c09a\">\n",
              "  <button class=\"colab-df-quickchart\" onclick=\"quickchart('df-c21c2426-b9da-4213-8c79-be74b033c09a')\"\n",
              "            title=\"Suggest charts\"\n",
              "            style=\"display:none;\">\n",
              "\n",
              "<svg xmlns=\"http://www.w3.org/2000/svg\" height=\"24px\"viewBox=\"0 0 24 24\"\n",
              "     width=\"24px\">\n",
              "    <g>\n",
              "        <path d=\"M19 3H5c-1.1 0-2 .9-2 2v14c0 1.1.9 2 2 2h14c1.1 0 2-.9 2-2V5c0-1.1-.9-2-2-2zM9 17H7v-7h2v7zm4 0h-2V7h2v10zm4 0h-2v-4h2v4z\"/>\n",
              "    </g>\n",
              "</svg>\n",
              "  </button>\n",
              "\n",
              "<style>\n",
              "  .colab-df-quickchart {\n",
              "      --bg-color: #E8F0FE;\n",
              "      --fill-color: #1967D2;\n",
              "      --hover-bg-color: #E2EBFA;\n",
              "      --hover-fill-color: #174EA6;\n",
              "      --disabled-fill-color: #AAA;\n",
              "      --disabled-bg-color: #DDD;\n",
              "  }\n",
              "\n",
              "  [theme=dark] .colab-df-quickchart {\n",
              "      --bg-color: #3B4455;\n",
              "      --fill-color: #D2E3FC;\n",
              "      --hover-bg-color: #434B5C;\n",
              "      --hover-fill-color: #FFFFFF;\n",
              "      --disabled-bg-color: #3B4455;\n",
              "      --disabled-fill-color: #666;\n",
              "  }\n",
              "\n",
              "  .colab-df-quickchart {\n",
              "    background-color: var(--bg-color);\n",
              "    border: none;\n",
              "    border-radius: 50%;\n",
              "    cursor: pointer;\n",
              "    display: none;\n",
              "    fill: var(--fill-color);\n",
              "    height: 32px;\n",
              "    padding: 0;\n",
              "    width: 32px;\n",
              "  }\n",
              "\n",
              "  .colab-df-quickchart:hover {\n",
              "    background-color: var(--hover-bg-color);\n",
              "    box-shadow: 0 1px 2px rgba(60, 64, 67, 0.3), 0 1px 3px 1px rgba(60, 64, 67, 0.15);\n",
              "    fill: var(--button-hover-fill-color);\n",
              "  }\n",
              "\n",
              "  .colab-df-quickchart-complete:disabled,\n",
              "  .colab-df-quickchart-complete:disabled:hover {\n",
              "    background-color: var(--disabled-bg-color);\n",
              "    fill: var(--disabled-fill-color);\n",
              "    box-shadow: none;\n",
              "  }\n",
              "\n",
              "  .colab-df-spinner {\n",
              "    border: 2px solid var(--fill-color);\n",
              "    border-color: transparent;\n",
              "    border-bottom-color: var(--fill-color);\n",
              "    animation:\n",
              "      spin 1s steps(1) infinite;\n",
              "  }\n",
              "\n",
              "  @keyframes spin {\n",
              "    0% {\n",
              "      border-color: transparent;\n",
              "      border-bottom-color: var(--fill-color);\n",
              "      border-left-color: var(--fill-color);\n",
              "    }\n",
              "    20% {\n",
              "      border-color: transparent;\n",
              "      border-left-color: var(--fill-color);\n",
              "      border-top-color: var(--fill-color);\n",
              "    }\n",
              "    30% {\n",
              "      border-color: transparent;\n",
              "      border-left-color: var(--fill-color);\n",
              "      border-top-color: var(--fill-color);\n",
              "      border-right-color: var(--fill-color);\n",
              "    }\n",
              "    40% {\n",
              "      border-color: transparent;\n",
              "      border-right-color: var(--fill-color);\n",
              "      border-top-color: var(--fill-color);\n",
              "    }\n",
              "    60% {\n",
              "      border-color: transparent;\n",
              "      border-right-color: var(--fill-color);\n",
              "    }\n",
              "    80% {\n",
              "      border-color: transparent;\n",
              "      border-right-color: var(--fill-color);\n",
              "      border-bottom-color: var(--fill-color);\n",
              "    }\n",
              "    90% {\n",
              "      border-color: transparent;\n",
              "      border-bottom-color: var(--fill-color);\n",
              "    }\n",
              "  }\n",
              "</style>\n",
              "\n",
              "  <script>\n",
              "    async function quickchart(key) {\n",
              "      const quickchartButtonEl =\n",
              "        document.querySelector('#' + key + ' button');\n",
              "      quickchartButtonEl.disabled = true;  // To prevent multiple clicks.\n",
              "      quickchartButtonEl.classList.add('colab-df-spinner');\n",
              "      try {\n",
              "        const charts = await google.colab.kernel.invokeFunction(\n",
              "            'suggestCharts', [key], {});\n",
              "      } catch (error) {\n",
              "        console.error('Error during call to suggestCharts:', error);\n",
              "      }\n",
              "      quickchartButtonEl.classList.remove('colab-df-spinner');\n",
              "      quickchartButtonEl.classList.add('colab-df-quickchart-complete');\n",
              "    }\n",
              "    (() => {\n",
              "      let quickchartButtonEl =\n",
              "        document.querySelector('#df-c21c2426-b9da-4213-8c79-be74b033c09a button');\n",
              "      quickchartButtonEl.style.display =\n",
              "        google.colab.kernel.accessAllowed ? 'block' : 'none';\n",
              "    })();\n",
              "  </script>\n",
              "</div>\n",
              "\n",
              "    </div>\n",
              "  </div>\n"
            ],
            "application/vnd.google.colaboratory.intrinsic+json": {
              "type": "dataframe",
              "variable_name": "df"
            }
          },
          "metadata": {},
          "execution_count": 4
        }
      ]
    },
    {
      "cell_type": "markdown",
      "source": [
        "### **3. Create Smiles List**"
      ],
      "metadata": {
        "id": "s6h9WHCLzDiM"
      }
    },
    {
      "cell_type": "code",
      "source": [
        "smiles_list = df.smiles.unique().tolist()\n",
        "print('Total Smiles:', len(smiles_list))\n",
        "print('First five items:', smiles_list[:5])\n",
        "print('Maximum atom count:', max([len(x) for x in smiles_list if x.isalpha()]))"
      ],
      "metadata": {
        "colab": {
          "base_uri": "https://localhost:8080/"
        },
        "id": "oeY7DmCzzL9B",
        "outputId": "697e0ba9-036c-46e8-af6b-17b42a234552"
      },
      "execution_count": null,
      "outputs": [
        {
          "output_type": "stream",
          "name": "stdout",
          "text": [
            "Total Smiles: 133802\n",
            "First five items: ['C', 'N', 'O', 'C#C', 'C#N']\n",
            "Maximum atom count: 9\n"
          ]
        }
      ]
    },
    {
      "cell_type": "code",
      "source": [
        "# Get unique atoms\n",
        "smiles_char = set(''.join(smiles_list))\n",
        "print('Smiles characters:', smiles_char)\n",
        "\n",
        "unique_atoms = set(char.upper() for char in smiles_char if char.isalpha())\n",
        "print('Unique atoms:', unique_atoms)"
      ],
      "metadata": {
        "colab": {
          "base_uri": "https://localhost:8080/"
        },
        "id": "iOwqArAI0LXd",
        "outputId": "9fa12514-3505-4eb0-d20f-69721e51e259"
      },
      "execution_count": null,
      "outputs": [
        {
          "output_type": "stream",
          "name": "stdout",
          "text": [
            "Smiles characters: {'n', 'C', '2', '5', ')', '=', '[', '3', '4', '-', '+', 'O', '1', 'c', 'o', 'F', ']', 'H', '#', '(', 'N'}\n",
            "Unique atoms: {'C', 'H', 'O', 'F', 'N'}\n"
          ]
        }
      ]
    },
    {
      "cell_type": "code",
      "source": [
        "smiles = smiles_list[1000]\n",
        "mol = Chem.MolFromSmiles(smiles)\n",
        "mol"
      ],
      "metadata": {
        "colab": {
          "base_uri": "https://localhost:8080/",
          "height": 167
        },
        "id": "5RUjjP3e3QOB",
        "outputId": "14f11f97-c5eb-4084-ff86-cd40d4c35255"
      },
      "execution_count": null,
      "outputs": [
        {
          "output_type": "execute_result",
          "data": {
            "text/plain": [
              "<rdkit.Chem.rdchem.Mol at 0x7d5d6a2865e0>"
            ],
            "image/png": "[encoded data removed]"
          },
          "metadata": {},
          "execution_count": 7
        }
      ]
    },
    {
      "cell_type": "markdown",
      "source": [
        "### **4. Define helper functions**"
      ],
      "metadata": {
        "id": "da7_MCpi1fk4"
      }
    },
    {
      "cell_type": "code",
      "source": [
        "# Atom Mapping\n",
        "atom_mapping = {'C':0, 'N':1, 'O':2, 'F':4, 0:'C', 1:'N', 2:'O', 3:'F'}\n",
        "\n",
        "# Bond Mapping\n",
        "bond_mapping = {'SINGLE':0, 'DOUBLE':1, 'TRIPLE':2, 'AROMATIC':3, 0:Chem.BondType.SINGLE, 1:Chem.BondType.DOUBLE, 2:Chem.BondType.TRIPLE, 3:Chem.BondType.AROMATIC}\n",
        "\n",
        "# Set Parameters\n",
        "ATOM_DIM = 4+1\n",
        "BOND_DIM = 4+1\n",
        "MAX_ATOMS = 9\n",
        "LATENT_DIM = 64"
      ],
      "metadata": {
        "id": "CLHRWlZR1pYM"
      },
      "execution_count": null,
      "outputs": []
    },
    {
      "cell_type": "markdown",
      "source": [
        "### **5. Convert smiles to graph**"
      ],
      "metadata": {
        "id": "FAPLjvDS3Nzg"
      }
    },
    {
      "cell_type": "code",
      "source": [
        "def smiles_to_graph(smiles):\n",
        "\n",
        "  # smiles to molecule\n",
        "  mol = Chem.MolFromSmiles(smiles)\n",
        "\n",
        "  # Initialize adjacency and features matrices\n",
        "  adjacency = np.zeros((BOND_DIM, MAX_ATOMS, MAX_ATOMS), dtype=np.float32)\n",
        "  features = np.zeros((MAX_ATOMS, ATOM_DIM), dtype=np.float32)\n",
        "\n",
        "  # Build features matrix\n",
        "  for atom in mol.GetAtoms():\n",
        "    i = atom.GetIdx()\n",
        "    features[i, atom_mapping[atom.GetSymbol()]] = 1\n",
        "    # Build adjacency matrix\n",
        "    for neighbor in atom.GetNeighbors():\n",
        "      j = neighbor.GetIdx()\n",
        "      bond = mol.GetBondBetweenAtoms(i,j)\n",
        "      bond_type = bond.GetBondType().name\n",
        "      adjacency[bond_mapping[bond_type], [i,j], [j,i]] = 1\n",
        "\n",
        "  # Assign all 'non-atoms' = 1\n",
        "  features[np.sum(features, axis=1)==0, -1] = 1\n",
        "  # Assign all 'non-bonds' or 'absence of bonds' = 1\n",
        "  adjacency[-1, np.sum(adjacency[:-1], axis=0)==0] = 1\n",
        "\n",
        "  return adjacency, features\n"
      ],
      "metadata": {
        "id": "eoDGyYlsYHGD"
      },
      "execution_count": null,
      "outputs": []
    },
    {
      "cell_type": "markdown",
      "source": [
        "### **6. Convert graph to molecule**"
      ],
      "metadata": {
        "id": "H-VnnRcZaw2p"
      }
    },
    {
      "cell_type": "code",
      "source": [
        "def graph_to_molecule(graph):\n",
        "\n",
        "  # Unpack the graph\n",
        "  adjacency, features = graph\n",
        "\n",
        "  # Create an rdkit molecule object for editing\n",
        "  molecule = Chem.RWMol()\n",
        "\n",
        "  # keep indices associated with atoms and bond connectivities\n",
        "  keep_index = np.where((np.argmax(features, axis=1) != ATOM_DIM-1) & (np.sum(adjacency[:-1], axis=(0,1)) != 0))[0]\n",
        "  features = features[keep_index]\n",
        "  adjacency = adjacency[:,keep_index,:][:,:,keep_index]\n",
        "\n",
        "  # Add atoms\n",
        "  for i in np.argmax(features, axis=1):\n",
        "    atom = Chem.Atom(atom_mapping[i])\n",
        "    molecule.AddAtom(atom)\n",
        "\n",
        "  # Add bonds\n",
        "  (bond_ij, i, j) =  np.where(np.triu(adjacency==1))\n",
        "  for (bond_ij, i, j) in zip(bond_ij, i, j):\n",
        "    if i==j or bond_ij==BOND_DIM-1:\n",
        "      continue\n",
        "    bond_type = bond_mapping[bond_ij]\n",
        "    molecule.AddBond(int(i), int(j), bond_type)\n",
        "\n",
        "  # Sanitize molecule\n",
        "  flag = Chem.SanitizeMol(molecule, catchErrors=True)\n",
        "  if flag != Chem.SanitizeFlags.SANITIZE_NONE:\n",
        "    return None\n",
        "\n",
        "  return molecule"
      ],
      "metadata": {
        "id": "ovCrFkQeawJh"
      },
      "execution_count": null,
      "outputs": []
    },
    {
      "cell_type": "code",
      "source": [
        "graph_to_molecule(smiles_to_graph(smiles))"
      ],
      "metadata": {
        "colab": {
          "base_uri": "https://localhost:8080/",
          "height": 167
        },
        "id": "SHg07lDKeu3_",
        "outputId": "3033e7ab-a392-4afc-ec0e-beb72ff3be76"
      },
      "execution_count": null,
      "outputs": [
        {
          "output_type": "execute_result",
          "data": {
            "text/plain": [
              "<rdkit.Chem.rdchem.RWMol at 0x7d5d6616abb0>"
            ],
            "image/png": "[encoded data removed]"
          },
          "metadata": {},
          "execution_count": 11
        }
      ]
    },
    {
      "cell_type": "markdown",
      "source": [
        "### **7. Generate Training data**"
      ],
      "metadata": {
        "id": "MrUMqN-tyinK"
      }
    },
    {
      "cell_type": "code",
      "source": [
        "adjacency_tensor, features_tensor = [],[]\n",
        "\n",
        "for smiles in smiles_list[::10]:\n",
        "  adjacency, features = smiles_to_graph(smiles)\n",
        "  adjacency_tensor.append(adjacency)\n",
        "  features_tensor.append(features)\n",
        "\n",
        "# Convert list to numpy array\n",
        "adjacency_tensor = np.array(adjacency_tensor)\n",
        "features_tensor = np.array(features_tensor)\n",
        "\n",
        "print(adjacency_tensor.shape, features_tensor.shape)"
      ],
      "metadata": {
        "colab": {
          "base_uri": "https://localhost:8080/"
        },
        "id": "uQa22q2Iynie",
        "outputId": "073829ce-0da8-4ed7-e025-c33783a25eba"
      },
      "execution_count": null,
      "outputs": [
        {
          "output_type": "stream",
          "name": "stdout",
          "text": [
            "(13381, 5, 9, 9) (13381, 9, 5)\n"
          ]
        }
      ]
    },
    {
      "cell_type": "markdown",
      "source": [
        "### **8. Create Generator Function**"
      ],
      "metadata": {
        "id": "AgqfNzBXgKGW"
      }
    },
    {
      "cell_type": "code",
      "source": [
        "def GraphGenerator(latent_dim, dense_units, dropout_rate, adjacency_shape, features_shape):\n",
        "\n",
        "  # Input layer\n",
        "  z = keras.layers.Input(shape=(latent_dim))\n",
        "  x = z\n",
        "\n",
        "  # Dense layers\n",
        "  for units in dense_units:\n",
        "    x = keras.layers.Dense(units, activation = 'tanh')(x)\n",
        "    x = keras.layers.Dropout(dropout_rate)(x)\n",
        "\n",
        "  # adjacency output\n",
        "  x_adjacency = keras.layers.Dense(tf.math.reduce_prod(adjacency_shape))(x)\n",
        "  x_adjacency = keras.layers.Reshape(adjacency_shape)(x_adjacency)\n",
        "  x_adjacency = 0.5 * (x_adjacency + tf.transpose(x_adjacency, perm=(0,1,3,2)))\n",
        "  x_adjacency = keras.layers.Softmax(axis=1)(x_adjacency)\n",
        "\n",
        "  # features output\n",
        "  x_features = keras.layers.Dense(tf.math.reduce_prod(features_shape))(x)\n",
        "  x_features = keras.layers.Reshape(features_shape)(x_features)\n",
        "  x_features = keras.layers.Softmax(axis=2)(x_features)\n",
        "\n",
        "  return keras.Model(inputs=z, outputs=[x_adjacency, x_features], name='Generator')"
      ],
      "metadata": {
        "id": "Z9gzdaa4f6R-"
      },
      "execution_count": null,
      "outputs": []
    },
    {
      "cell_type": "code",
      "source": [
        "generator = GraphGenerator(latent_dim=LATENT_DIM,\n",
        "                           dense_units = [128,256,512],\n",
        "                           dropout_rate = 0.2,\n",
        "                           adjacency_shape=(BOND_DIM, MAX_ATOMS, MAX_ATOMS),\n",
        "                           features_shape=(MAX_ATOMS, ATOM_DIM))\n",
        "generator.summary()"
      ],
      "metadata": {
        "colab": {
          "base_uri": "https://localhost:8080/"
        },
        "id": "iW01Mh3LzYLe",
        "outputId": "f78f5afa-6d3e-454a-bb48-01ad52a79bdb"
      },
      "execution_count": null,
      "outputs": [
        {
          "output_type": "stream",
          "name": "stdout",
          "text": [
            "Model: \"Generator\"\n",
            "__________________________________________________________________________________________________\n",
            " Layer (type)                Output Shape                 Param #   Connected to                  \n",
            "==================================================================================================\n",
            " input_1 (InputLayer)        [(None, 64)]                 0         []                            \n",
            "                                                                                                  \n",
            " dense (Dense)               (None, 128)                  8320      ['input_1[0][0]']             \n",
            "                                                                                                  \n",
            " dropout (Dropout)           (None, 128)                  0         ['dense[0][0]']               \n",
            "                                                                                                  \n",
            " dense_1 (Dense)             (None, 256)                  33024     ['dropout[0][0]']             \n",
            "                                                                                                  \n",
            " dropout_1 (Dropout)         (None, 256)                  0         ['dense_1[0][0]']             \n",
            "                                                                                                  \n",
            " dense_2 (Dense)             (None, 512)                  131584    ['dropout_1[0][0]']           \n",
            "                                                                                                  \n",
            " dropout_2 (Dropout)         (None, 512)                  0         ['dense_2[0][0]']             \n",
            "                                                                                                  \n",
            " dense_3 (Dense)             (None, 405)                  207765    ['dropout_2[0][0]']           \n",
            "                                                                                                  \n",
            " reshape (Reshape)           (None, 5, 9, 9)              0         ['dense_3[0][0]']             \n",
            "                                                                                                  \n",
            " tf.compat.v1.transpose (TF  (None, 5, 9, 9)              0         ['reshape[0][0]']             \n",
            " OpLambda)                                                                                        \n",
            "                                                                                                  \n",
            " tf.__operators__.add (TFOp  (None, 5, 9, 9)              0         ['reshape[0][0]',             \n",
            " Lambda)                                                             'tf.compat.v1.transpose[0][0]\n",
            "                                                                    ']                            \n",
            "                                                                                                  \n",
            " dense_4 (Dense)             (None, 45)                   23085     ['dropout_2[0][0]']           \n",
            "                                                                                                  \n",
            " tf.math.multiply (TFOpLamb  (None, 5, 9, 9)              0         ['tf.__operators__.add[0][0]']\n",
            " da)                                                                                              \n",
            "                                                                                                  \n",
            " reshape_1 (Reshape)         (None, 9, 5)                 0         ['dense_4[0][0]']             \n",
            "                                                                                                  \n",
            " softmax (Softmax)           (None, 5, 9, 9)              0         ['tf.math.multiply[0][0]']    \n",
            "                                                                                                  \n",
            " softmax_1 (Softmax)         (None, 9, 5)                 0         ['reshape_1[0][0]']           \n",
            "                                                                                                  \n",
            "==================================================================================================\n",
            "Total params: 403778 (1.54 MB)\n",
            "Trainable params: 403778 (1.54 MB)\n",
            "Non-trainable params: 0 (0.00 Byte)\n",
            "__________________________________________________________________________________________________\n"
          ]
        }
      ]
    },
    {
      "cell_type": "markdown",
      "source": [
        "### **9. Create Discriminator Function**"
      ],
      "metadata": {
        "id": "C8zgONuBz0XT"
      }
    },
    {
      "cell_type": "markdown",
      "source": [
        "### **Create custom R-GCN layer**"
      ],
      "metadata": {
        "id": "h_Koy9eT0Hyl"
      }
    },
    {
      "cell_type": "code",
      "source": [
        "class RelationalGraphConvLayer(keras.layers.Layer):\n",
        "\n",
        "  # Initialize layer\n",
        "  def __init__(self, rgcn_units, activation='relu', kernel_initializer='glorot_uniform', kernel_regularizer=None, use_bias=False, bias_initializer='zeros', bias_regularizer=None, **kwargs):\n",
        "    super().__init__(**kwargs)\n",
        "    self.rgcn_units = rgcn_units\n",
        "    self.activation = keras.activations.get(activation)\n",
        "    self.kernel_initializer = keras.initializers.get(kernel_initializer)\n",
        "    self.kernel_regularizer = keras.regularizers.get(kernel_regularizer)\n",
        "    self.use_bias = use_bias\n",
        "    self.bias_initializer = keras.initializers.get(bias_initializer)\n",
        "    self.bias_regularizer = keras.regularizers.get(bias_regularizer)\n",
        "\n",
        " # Build layer\n",
        "  def build(self, input_shape):\n",
        "\n",
        "    # Set kernel weights and bias\n",
        "    bond_dim = input_shape[0][1]\n",
        "    atom_features = input_shape[1][2]\n",
        "    self.kernel = self.add_weight(shape=(bond_dim, atom_features, self.rgcn_units),\n",
        "                                   initializer = self.kernel_initializer,\n",
        "                                   regularizer = self.kernel_regularizer,\n",
        "                                   trainable = True,\n",
        "                                   name = 'W',\n",
        "                                   dtype = np.float32)\n",
        "\n",
        "    if self.use_bias:\n",
        "      self.bias = self.add_weight(shape=(bond_dim, 1, self.rgcn_units),\n",
        "                                   initializer = self.bias_initializer,\n",
        "                                   regularizer = self.bias_regularizer,\n",
        "                                   trainable = True,\n",
        "                                   name = 'b',\n",
        "                                   dtype = np.float32)\n",
        "\n",
        "  # Run R-GCN layer\n",
        "  def call(self, inputs):\n",
        "\n",
        "    # Unpack inputs\n",
        "    adjacency, features = inputs\n",
        "    # Neighborhood aggregation\n",
        "    x = tf.matmul(adjacency, features[:,None,:,:])\n",
        "    # Linear transformation\n",
        "    x = tf.matmul(x, self.kernel)\n",
        "    if self.use_bias:\n",
        "      x+=self.bias\n",
        "    # Average aggregation\n",
        "    x_reduced = tf.reduce_sum(x, axis=1)\n",
        "    return self.activation(x_reduced)\n"
      ],
      "metadata": {
        "id": "EUW7XRsXY6OG"
      },
      "execution_count": null,
      "outputs": []
    },
    {
      "cell_type": "markdown",
      "source": [
        "### **Discriminator Function with R-GCN and Dense Layers**"
      ],
      "metadata": {
        "id": "y2Fijn30dDLI"
      }
    },
    {
      "cell_type": "code",
      "source": [
        "def GraphDiscriminator(adjacency_shape, features_shape, rgcn_units, dense_units, dropout_rate):\n",
        "\n",
        "  # R-GCN Input layer\n",
        "  x_adjacency = keras.layers.Input(shape=adjacency_shape)\n",
        "  x_features = keras.layers.Input(shape=features_shape)\n",
        "\n",
        "  # Run R-GCN to update atom features\n",
        "  features_transformed = x_features\n",
        "  for units in rgcn_units:\n",
        "    features_transformed = RelationalGraphConvLayer(units)([x_adjacency, features_transformed])\n",
        "\n",
        "  # Downsampling of transformed features\n",
        "    x = keras.layers.GlobalAveragePooling1D()(features_transformed)\n",
        "\n",
        "  # Pass through Dense layers\n",
        "  for units in dense_units:\n",
        "    x = keras.layers.Dense(units, activation = 'relu')(x)\n",
        "    x = keras.layers.Dropout(dropout_rate)(x)\n",
        "\n",
        "  # Final output\n",
        "  x_out = keras.layers.Dense(1, activation='sigmoid', dtype=np.float32)(x)\n",
        "\n",
        "  return keras.Model(inputs=[x_adjacency, x_features], outputs=x_out)\n"
      ],
      "metadata": {
        "id": "TuP1RYg4dOrM"
      },
      "execution_count": null,
      "outputs": []
    },
    {
      "cell_type": "code",
      "source": [
        "discriminator = GraphDiscriminator(adjacency_shape=(BOND_DIM, MAX_ATOMS, MAX_ATOMS),\n",
        "                                   features_shape = (MAX_ATOMS, ATOM_DIM),\n",
        "                                   rgcn_units = [128,128,128,128],\n",
        "                                   dense_units = [512,512],\n",
        "                                   dropout_rate = 0.2)\n",
        "discriminator.summary()"
      ],
      "metadata": {
        "id": "Lvm3ZAl9f2EJ",
        "colab": {
          "base_uri": "https://localhost:8080/"
        },
        "outputId": "59024ffd-b84e-46ff-b40a-fe91c700467e"
      },
      "execution_count": null,
      "outputs": [
        {
          "output_type": "stream",
          "name": "stdout",
          "text": [
            "Model: \"model_1\"\n",
            "__________________________________________________________________________________________________\n",
            " Layer (type)                Output Shape                 Param #   Connected to                  \n",
            "==================================================================================================\n",
            " input_4 (InputLayer)        [(None, 5, 9, 9)]            0         []                            \n",
            "                                                                                                  \n",
            " input_5 (InputLayer)        [(None, 9, 5)]               0         []                            \n",
            "                                                                                                  \n",
            " relational_graph_conv_laye  (None, 9, 128)               3200      ['input_4[0][0]',             \n",
            " r_4 (RelationalGraphConvLa                                          'input_5[0][0]']             \n",
            " yer)                                                                                             \n",
            "                                                                                                  \n",
            " relational_graph_conv_laye  (None, 9, 128)               81920     ['input_4[0][0]',             \n",
            " r_5 (RelationalGraphConvLa                                          'relational_graph_conv_layer_\n",
            " yer)                                                               4[0][0]']                     \n",
            "                                                                                                  \n",
            " relational_graph_conv_laye  (None, 9, 128)               81920     ['input_4[0][0]',             \n",
            " r_6 (RelationalGraphConvLa                                          'relational_graph_conv_layer_\n",
            " yer)                                                               5[0][0]']                     \n",
            "                                                                                                  \n",
            " relational_graph_conv_laye  (None, 9, 128)               81920     ['input_4[0][0]',             \n",
            " r_7 (RelationalGraphConvLa                                          'relational_graph_conv_layer_\n",
            " yer)                                                               6[0][0]']                     \n",
            "                                                                                                  \n",
            " global_average_pooling1d_7  (None, 128)                  0         ['relational_graph_conv_layer_\n",
            "  (GlobalAveragePooling1D)                                          7[0][0]']                     \n",
            "                                                                                                  \n",
            " dense_8 (Dense)             (None, 512)                  66048     ['global_average_pooling1d_7[0\n",
            "                                                                    ][0]']                        \n",
            "                                                                                                  \n",
            " dropout_5 (Dropout)         (None, 512)                  0         ['dense_8[0][0]']             \n",
            "                                                                                                  \n",
            " dense_9 (Dense)             (None, 512)                  262656    ['dropout_5[0][0]']           \n",
            "                                                                                                  \n",
            " dropout_6 (Dropout)         (None, 512)                  0         ['dense_9[0][0]']             \n",
            "                                                                                                  \n",
            " dense_10 (Dense)            (None, 1)                    513       ['dropout_6[0][0]']           \n",
            "                                                                                                  \n",
            "==================================================================================================\n",
            "Total params: 578177 (2.21 MB)\n",
            "Trainable params: 578177 (2.21 MB)\n",
            "Non-trainable params: 0 (0.00 Byte)\n",
            "__________________________________________________________________________________________________\n"
          ]
        }
      ]
    },
    {
      "cell_type": "markdown",
      "source": [
        "### **10. Generator + Discriminator -> WGAN with Gradient Penalty**"
      ],
      "metadata": {
        "id": "BWGZeZkegkc-"
      }
    },
    {
      "cell_type": "code",
      "source": [
        "class GraphWGAN(keras.Model):\n",
        "  # Initialize model\n",
        "  def __init__(self, generator, discriminator, generator_steps=1, discriminator_steps=1, gp_weight=10, **kwargs):\n",
        "    super().__init__(**kwargs)\n",
        "    self.generator = generator\n",
        "    self.discriminator = discriminator\n",
        "    self.generator_steps = generator_steps\n",
        "    self.discriminator_steps = discriminator_steps\n",
        "    self.gp_weight = gp_weight\n",
        "    self.latent_dim = self.generator.input_shape[-1]\n",
        "\n",
        "  # Compile model\n",
        "  def compile(self, optimizer_generator, optimizer_discriminator, **kwargs):\n",
        "    super().compile(**kwargs)\n",
        "    self.optimizer_generator = optimizer_generator\n",
        "    self.optimizer_discriminator = optimizer_discriminator\n",
        "    self.metric_generator = keras.metrics.Mean(name='loss_gen')\n",
        "    self.metric_discriminator = keras.metrics.Mean(name='loss_disc')\n",
        "\n",
        "  # Train model\n",
        "  def train_step(self, inputs):\n",
        "    if isinstance(inputs[0], tuple):\n",
        "      inputs = inputs[0]\n",
        "      graph_real = inputs\n",
        "      self.batch_size = tf.shape(inputs[0])[0]\n",
        "\n",
        "    # Train discriminator\n",
        "    for _ in range(self.discriminator_steps):\n",
        "\n",
        "      z = tf.random.normal((self.batch_size, self.latent_dim))\n",
        "\n",
        "      with tf.GradientTape() as tape:\n",
        "        graph_generated = self.generator(z, training=True)\n",
        "        logits_generated = self.discriminator(graph_generated, training=True)\n",
        "        logits_real = self.discriminator(graph_real, training=True)\n",
        "        loss = tf.reduce_mean(logits_generated) - tf.reduce_mean(logits_real)\n",
        "        loss_gp = self.gradient_penalty(graph_generated, graph_real)\n",
        "        loss = loss + self.gp_weight * loss_gp\n",
        "\n",
        "      gradients = tape.gradient(loss, self.discriminator.trainable_weights)\n",
        "      self.optimizer_discriminator.apply_gradients(zip(gradients,self.discriminator.trainable_weights))\n",
        "      self.metric_discriminator.update_state(loss)\n",
        "\n",
        "   # Train generator\n",
        "    for _ in range(self.generator_steps):\n",
        "\n",
        "      z = tf.random.normal((self.batch_size, self.latent_dim))\n",
        "\n",
        "      with tf.GradientTape() as tape:\n",
        "        graph_generated = self.generator(z, training=True)\n",
        "        logits_generated = self.discriminator(graph_generated, training=True)\n",
        "        loss = -tf.reduce_mean(logits_generated)\n",
        "\n",
        "      gradients = tape.gradient(loss, self.generator.trainable_weights)\n",
        "      self.optimizer_generator.apply_gradients(zip(gradients, self.generator.trainable_weights))\n",
        "      self.metric_generator.update_state(loss)\n",
        "\n",
        "    return {m.name : m.result() for m in self.metrics}\n",
        "\n",
        "  # Gradient Penalty\n",
        "  def gradient_penalty(self, graph_real, graph_generated):\n",
        "\n",
        "    # Unpack graphs\n",
        "    adjacency_real, features_real = graph_real\n",
        "    adjacency_generated, features_generated = graph_generated\n",
        "\n",
        "    # Generate interpolated graphs (adjacency_interp and features_interp)\n",
        "    alpha = tf.random.uniform([self.batch_size])\n",
        "    alpha = tf.reshape(alpha, (self.batch_size, 1, 1, 1))\n",
        "    adjacency_interp = (adjacency_real * alpha) + (1 - alpha) * adjacency_generated\n",
        "    alpha = tf.reshape(alpha, (self.batch_size, 1, 1))\n",
        "    features_interp = (features_real * alpha) + (1 - alpha) * features_generated\n",
        "\n",
        "    # Compute the logits of interpolated graphs\n",
        "    with tf.GradientTape() as tape:\n",
        "        tape.watch(adjacency_interp)\n",
        "        tape.watch(features_interp)\n",
        "        logits = self.discriminator(\n",
        "            [adjacency_interp, features_interp], training=True)\n",
        "\n",
        "    # Compute the gradients with respect to the interpolated graphs\n",
        "    grads = tape.gradient(logits, [adjacency_interp, features_interp])\n",
        "    # Compute the gradient penalty\n",
        "    grads_adjacency_penalty = (1 - tf.norm(grads[0], axis=1)) ** 2\n",
        "    grads_features_penalty = (1 - tf.norm(grads[1], axis=2)) ** 2\n",
        "    return tf.reduce_mean(\n",
        "        tf.reduce_mean(grads_adjacency_penalty, axis=(-2, -1))\n",
        "        + tf.reduce_mean(grads_features_penalty, axis=(-1)))\n"
      ],
      "metadata": {
        "id": "ITCGTq2ohEa-"
      },
      "execution_count": null,
      "outputs": []
    },
    {
      "cell_type": "markdown",
      "source": [
        "### **11. Train model**"
      ],
      "metadata": {
        "id": "fy7zjMXUNAR7"
      }
    },
    {
      "cell_type": "code",
      "source": [
        "wgan = GraphWGAN(generator, discriminator, discriminator_steps=1)\n",
        "\n",
        "wgan.compile(optimizer_generator = keras.optimizers.Adam(learning_rate=5e-4),\n",
        "             optimizer_discriminator = keras.optimizers.Adam(learning_rate=5e-4))\n",
        "\n",
        "wgan.fit([adjacency_tensor,features_tensor], epochs=10, batch_size=16)\n"
      ],
      "metadata": {
        "colab": {
          "base_uri": "https://localhost:8080/"
        },
        "id": "9YFKyTXdDj-O",
        "outputId": "10d1dabf-2c24-459e-a037-09f0e3b7f863"
      },
      "execution_count": null,
      "outputs": [
        {
          "output_type": "stream",
          "name": "stdout",
          "text": [
            "Epoch 1/10\n",
            "837/837 [==============================] - 108s 119ms/step - loss_gen: 0.6646 - loss_disc: -1.4252\n",
            "Epoch 2/10\n",
            "837/837 [==============================] - 99s 118ms/step - loss_gen: 0.5839 - loss_disc: -1.7246\n",
            "Epoch 3/10\n",
            "837/837 [==============================] - 96s 114ms/step - loss_gen: 0.8574 - loss_disc: -1.7936\n",
            "Epoch 4/10\n",
            "837/837 [==============================] - 95s 114ms/step - loss_gen: 0.8106 - loss_disc: -1.9500\n",
            "Epoch 5/10\n",
            "837/837 [==============================] - 96s 114ms/step - loss_gen: 0.1213 - loss_disc: -1.8496\n",
            "Epoch 6/10\n",
            "837/837 [==============================] - 95s 113ms/step - loss_gen: 0.4498 - loss_disc: -1.9512\n",
            "Epoch 7/10\n",
            "837/837 [==============================] - 94s 113ms/step - loss_gen: 0.6978 - loss_disc: -1.9446\n",
            "Epoch 8/10\n",
            "837/837 [==============================] - 94s 112ms/step - loss_gen: 0.7482 - loss_disc: -1.9835\n",
            "Epoch 9/10\n",
            "837/837 [==============================] - 94s 112ms/step - loss_gen: 0.6657 - loss_disc: -1.8955\n",
            "Epoch 10/10\n",
            "837/837 [==============================] - 95s 113ms/step - loss_gen: 0.7904 - loss_disc: -1.9402\n"
          ]
        },
        {
          "output_type": "execute_result",
          "data": {
            "text/plain": [
              "<keras.src.callbacks.History at 0x7c70e67923b0>"
            ]
          },
          "metadata": {},
          "execution_count": 47
        }
      ]
    },
    {
      "cell_type": "markdown",
      "source": [
        "### **Metrics**"
      ],
      "metadata": {
        "id": "rgQPf4OgeczT"
      }
    },
    {
      "cell_type": "code",
      "source": [
        "for m in wgan.metrics:\n",
        "  print(m.name, m.result().numpy())"
      ],
      "metadata": {
        "id": "YnAeSutgN6p9",
        "colab": {
          "base_uri": "https://localhost:8080/"
        },
        "outputId": "f30dcf77-c883-4c10-fbe0-1345a9f0366a"
      },
      "execution_count": null,
      "outputs": [
        {
          "output_type": "stream",
          "name": "stdout",
          "text": [
            "loss_gen 0.7903562\n",
            "loss_disc -1.9402003\n"
          ]
        }
      ]
    },
    {
      "cell_type": "markdown",
      "source": [
        "###**12. Generate new molecules**"
      ],
      "metadata": {
        "id": "6Dmp-hpJehZo"
      }
    },
    {
      "cell_type": "code",
      "source": [
        "def sample(generator, batch_size):\n",
        "\n",
        "  # Input noise\n",
        "  z = tf.random.normal((batch_size, LATENT_DIM))\n",
        "  # Predicted graph from generator\n",
        "  graph = generator.predict(z)\n",
        "\n",
        "  # Get the most probable bondtype between each atom pair from adjacency tensor\n",
        "  adjacency = tf.argmax(graph[0], axis=1)\n",
        "  # Get one-hot encoded representation of adjacency tensor\n",
        "  adjacency = tf.one_hot(adjacency, depth=BOND_DIM, axis=1)\n",
        "  # Set diagonal elemest to zero to remove self-bonding\n",
        "  adjacency = tf.linalg.set_diag(adjacency, tf.zeros(tf.shape(adjacency)[:-1]))\n",
        "\n",
        "  # Get the most probable atom type from feature tensor\n",
        "  features = tf.argmax(graph[1], axis=2)\n",
        "  # Get one-hot encoded repreentation of feature tensor\n",
        "  features = tf.one_hot(features, depth=ATOM_DIM, dtype=np.float32)\n",
        "\n",
        "  return [graph_to_molecule([adjacency[i].numpy(), features[i].numpy()]) for i in range(batch_size)]"
      ],
      "metadata": {
        "id": "SOFumHbHnuDE"
      },
      "execution_count": null,
      "outputs": []
    },
    {
      "cell_type": "code",
      "source": [
        "molecules = sample(wgan.generator, batch_size=48)\n",
        "\n",
        "MolsToGridImage([m for m in molecules if m is not None][:25], molsPerRow=5, subImgSize=(150,150))"
      ],
      "metadata": {
        "id": "rkbcquj32yss",
        "colab": {
          "base_uri": "https://localhost:8080/",
          "height": 785
        },
        "outputId": "3a13418d-0fae-4577-b2d9-52b3e922f837"
      },
      "execution_count": null,
      "outputs": [
        {
          "output_type": "stream",
          "name": "stdout",
          "text": [
            "2/2 [==============================] - 0s 6ms/step\n"
          ]
        },
        {
          "output_type": "execute_result",
          "data": {
            "image/png": "[encoded data removed]",
            "text/plain": [
              "<IPython.core.display.Image object>"
            ]
          },
          "metadata": {},
          "execution_count": 52
        }
      ]
    }
  ]
}